{
 "cells": [
  {
   "cell_type": "code",
   "execution_count": null,
   "id": "528aca93",
   "metadata": {},
   "outputs": [
    {
     "data": {
      "text/plain": [
       "'\\n01_initial_exploration.ipynb\\nPurpose: explore with initial NFL tracking data\\nGoals:\\n    - \\n\\nOctober 2025\\n'"
      ]
     },
     "execution_count": 1,
     "metadata": {},
     "output_type": "execute_result"
    }
   ],
   "source": [
    "\"\"\"\n",
    "01_initial_exploration.ipynb\n",
    "Purpose: explore with initial NFL tracking data\n",
    "Notes:\n",
    "    - input: training features (metadata, tracking data, context, frames)\n",
    "    - output: target variables (player stats, play outcomes)\n",
    "    - no nulls in input data\n",
    "    - 329 unique plays, 22 players per play\n",
    "October 2025\n",
    "\"\"\""
   ]
  },
  {
   "cell_type": "code",
   "execution_count": 28,
   "id": "2022d63f",
   "metadata": {},
   "outputs": [
    {
     "name": "stdout",
     "output_type": "stream",
     "text": [
      "      game_id  play_id  player_to_predict  nfl_id  frame_id play_direction  \\\n",
      "0  2023090700      101              False   54527         1          right   \n",
      "1  2023090700      101              False   54527         2          right   \n",
      "2  2023090700      101              False   54527         3          right   \n",
      "3  2023090700      101              False   54527         4          right   \n",
      "4  2023090700      101              False   54527         5          right   \n",
      "\n",
      "   absolute_yardline_number player_name player_height  player_weight  ...  \\\n",
      "0                        42  Bryan Cook           6-1            210  ...   \n",
      "1                        42  Bryan Cook           6-1            210  ...   \n",
      "2                        42  Bryan Cook           6-1            210  ...   \n",
      "3                        42  Bryan Cook           6-1            210  ...   \n",
      "4                        42  Bryan Cook           6-1            210  ...   \n",
      "\n",
      "          player_role      x      y     s     a     dir       o  \\\n",
      "0  Defensive Coverage  52.33  36.94  0.09  0.39  322.40  238.24   \n",
      "1  Defensive Coverage  52.33  36.94  0.04  0.61  200.89  236.05   \n",
      "2  Defensive Coverage  52.33  36.93  0.12  0.73  147.55  240.60   \n",
      "3  Defensive Coverage  52.35  36.92  0.23  0.81  131.40  244.25   \n",
      "4  Defensive Coverage  52.37  36.90  0.35  0.82  123.26  244.25   \n",
      "\n",
      "   num_frames_output  ball_land_x  ball_land_y  \n",
      "0                 21    63.259998        -0.22  \n",
      "1                 21    63.259998        -0.22  \n",
      "2                 21    63.259998        -0.22  \n",
      "3                 21    63.259998        -0.22  \n",
      "4                 21    63.259998        -0.22  \n",
      "\n",
      "[5 rows x 23 columns]\n",
      "      game_id  play_id  nfl_id  frame_id      x      y\n",
      "0  2023090700      101   46137         1  56.22  17.28\n",
      "1  2023090700      101   46137         2  56.63  16.88\n",
      "2  2023090700      101   46137         3  57.06  16.46\n",
      "3  2023090700      101   46137         4  57.48  16.02\n",
      "4  2023090700      101   46137         5  57.91  15.56\n"
     ]
    }
   ],
   "source": [
    "import pandas as pd \n",
    "import numpy as np\n",
    "\n",
    "input_df = pd.read_csv('../data/train/input_2023_w01.csv')\n",
    "print(input_df.head())\n",
    "\n",
    "output_df = pd.read_csv('../data/train/output_2023_w01.csv')\n",
    "print(output_df.head())\n"
   ]
  },
  {
   "cell_type": "code",
   "execution_count": 36,
   "id": "88ef3e41",
   "metadata": {},
   "outputs": [
    {
     "name": "stdout",
     "output_type": "stream",
     "text": [
      "(285714, 23)\n",
      "Index(['game_id', 'play_id', 'player_to_predict', 'nfl_id', 'frame_id',\n",
      "       'play_direction', 'absolute_yardline_number', 'player_name',\n",
      "       'player_height', 'player_weight', 'player_birth_date',\n",
      "       'player_position', 'player_side', 'player_role', 'x', 'y', 's', 'a',\n",
      "       'dir', 'o', 'num_frames_output', 'ball_land_x', 'ball_land_y'],\n",
      "      dtype='object')\n",
      "737\n",
      "count    285714.000000\n",
      "mean       2284.758118\n",
      "std        1239.145629\n",
      "min          55.000000\n",
      "25%        1232.000000\n",
      "50%        2263.000000\n",
      "75%        3302.000000\n",
      "max        4699.000000\n",
      "Name: play_id, dtype: float64\n",
      "game_id                     0\n",
      "play_id                     0\n",
      "player_to_predict           0\n",
      "nfl_id                      0\n",
      "frame_id                    0\n",
      "play_direction              0\n",
      "absolute_yardline_number    0\n",
      "player_name                 0\n",
      "player_height               0\n",
      "player_weight               0\n",
      "player_birth_date           0\n",
      "player_position             0\n",
      "player_side                 0\n",
      "player_role                 0\n",
      "x                           0\n",
      "y                           0\n",
      "s                           0\n",
      "a                           0\n",
      "dir                         0\n",
      "o                           0\n",
      "num_frames_output           0\n",
      "ball_land_x                 0\n",
      "ball_land_y                 0\n",
      "dtype: int64\n"
     ]
    }
   ],
   "source": [
    "print (input_df.shape)\n",
    "print (input_df.columns)\n",
    "print (input_df['nfl_id'].nunique())\n",
    "print (input_df['play_id'].describe())\n",
    "print (input_df.isnull().sum())"
   ]
  }
 ],
 "metadata": {
  "kernelspec": {
   "display_name": "base",
   "language": "python",
   "name": "python3"
  },
  "language_info": {
   "codemirror_mode": {
    "name": "ipython",
    "version": 3
   },
   "file_extension": ".py",
   "mimetype": "text/x-python",
   "name": "python",
   "nbconvert_exporter": "python",
   "pygments_lexer": "ipython3",
   "version": "3.11.7"
  }
 },
 "nbformat": 4,
 "nbformat_minor": 5
}
