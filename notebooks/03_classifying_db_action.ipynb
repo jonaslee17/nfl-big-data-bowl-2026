{
 "cells": [
  {
   "cell_type": "code",
   "execution_count": 1,
   "id": "72586367",
   "metadata": {},
   "outputs": [
    {
     "name": "stdout",
     "output_type": "stream",
     "text": [
      "Index(['game_id', 'play_id', 'player_to_predict', 'nfl_id', 'frame_id',\n",
      "       'play_direction', 'absolute_yardline_number', 'player_name',\n",
      "       'player_height', 'player_weight', 'player_birth_date',\n",
      "       'player_position', 'player_side', 'player_role', 'x', 'y', 's', 'a',\n",
      "       'dir', 'o', 'num_frames_output', 'ball_land_x', 'ball_land_y'],\n",
      "      dtype='object')\n"
     ]
    }
   ],
   "source": [
    "#Set up\n",
    "import pandas as pd \n",
    "import numpy as np\n",
    "\n",
    "\n",
    "input_df = pd.read_csv('../data/train/input_2023_w01.csv')\n",
    "print(input_df.columns)\n",
    "\n",
    "\n",
    "output_df = pd.read_csv('../data/train/output_2023_w01.csv')"
   ]
  },
  {
   "cell_type": "code",
   "execution_count": null,
   "id": "62850b73",
   "metadata": {},
   "outputs": [],
   "source": []
  },
  {
   "cell_type": "code",
   "execution_count": null,
   "id": "984cd708",
   "metadata": {},
   "outputs": [],
   "source": []
  }
 ],
 "metadata": {
  "kernelspec": {
   "display_name": "base",
   "language": "python",
   "name": "python3"
  },
  "language_info": {
   "codemirror_mode": {
    "name": "ipython",
    "version": 3
   },
   "file_extension": ".py",
   "mimetype": "text/x-python",
   "name": "python",
   "nbconvert_exporter": "python",
   "pygments_lexer": "ipython3",
   "version": "3.12.4"
  }
 },
 "nbformat": 4,
 "nbformat_minor": 5
}
