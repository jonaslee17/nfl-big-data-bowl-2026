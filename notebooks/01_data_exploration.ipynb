{
 "cells": [
  {
   "cell_type": "code",
   "execution_count": 1,
   "id": "528aca93",
   "metadata": {},
   "outputs": [
    {
     "data": {
      "text/plain": [
       "'\\n01_data_exploration.ipynb\\nPurpose: explore with initial NFL tracking data\\nKey Notes:\\nsetup\\n    - input: training features (metadata, tracking data, context, frames)\\n    - output: target variables (player stats, play outcomes)\\n    - no nulls in input data\\ninitial data exploration\\n    - play_id is not globally unique\\n    - ~12-13 players are tracked per frame\\n    - ~3-4 players are marked for prediction\\n    - all players tracked are solely players involved with pass (dbs, wrs, etc.)\\n    - 70% of predicted players are defensive\\nOctober 2025\\n'"
      ]
     },
     "execution_count": 1,
     "metadata": {},
     "output_type": "execute_result"
    }
   ],
   "source": [
    "\"\"\"\n",
    "01_data_exploration.ipynb\n",
    "Purpose: explore with initial NFL tracking data\n",
    "Key Notes:\n",
    "setup\n",
    "    - input: training features (metadata, tracking data, context, frames)\n",
    "    - output: target variables (player stats, play outcomes)\n",
    "    - no nulls in input data\n",
    "initial data exploration\n",
    "    - play_id is not globally unique\n",
    "    - ~12-13 players are tracked per frame\n",
    "    - ~3-4 players are marked for prediction\n",
    "    - all players tracked are solely players involved with pass (dbs, wrs, etc.)\n",
    "    - 70% of predicted players are defensive\n",
    "October 2025\n",
    "\"\"\""
   ]
  },
  {
   "cell_type": "code",
   "execution_count": 2,
   "id": "2022d63f",
   "metadata": {},
   "outputs": [
    {
     "name": "stdout",
     "output_type": "stream",
     "text": [
      "      game_id  play_id  player_to_predict  nfl_id  frame_id play_direction  \\\n",
      "0  2023090700      101              False   54527         1          right   \n",
      "1  2023090700      101              False   54527         2          right   \n",
      "2  2023090700      101              False   54527         3          right   \n",
      "3  2023090700      101              False   54527         4          right   \n",
      "4  2023090700      101              False   54527         5          right   \n",
      "\n",
      "   absolute_yardline_number player_name player_height  player_weight  ...  \\\n",
      "0                        42  Bryan Cook           6-1            210  ...   \n",
      "1                        42  Bryan Cook           6-1            210  ...   \n",
      "2                        42  Bryan Cook           6-1            210  ...   \n",
      "3                        42  Bryan Cook           6-1            210  ...   \n",
      "4                        42  Bryan Cook           6-1            210  ...   \n",
      "\n",
      "          player_role      x      y     s     a     dir       o  \\\n",
      "0  Defensive Coverage  52.33  36.94  0.09  0.39  322.40  238.24   \n",
      "1  Defensive Coverage  52.33  36.94  0.04  0.61  200.89  236.05   \n",
      "2  Defensive Coverage  52.33  36.93  0.12  0.73  147.55  240.60   \n",
      "3  Defensive Coverage  52.35  36.92  0.23  0.81  131.40  244.25   \n",
      "4  Defensive Coverage  52.37  36.90  0.35  0.82  123.26  244.25   \n",
      "\n",
      "   num_frames_output  ball_land_x  ball_land_y  \n",
      "0                 21    63.259998        -0.22  \n",
      "1                 21    63.259998        -0.22  \n",
      "2                 21    63.259998        -0.22  \n",
      "3                 21    63.259998        -0.22  \n",
      "4                 21    63.259998        -0.22  \n",
      "\n",
      "[5 rows x 23 columns]\n",
      "      game_id  play_id  nfl_id  frame_id      x      y\n",
      "0  2023090700      101   46137         1  56.22  17.28\n",
      "1  2023090700      101   46137         2  56.63  16.88\n",
      "2  2023090700      101   46137         3  57.06  16.46\n",
      "3  2023090700      101   46137         4  57.48  16.02\n",
      "4  2023090700      101   46137         5  57.91  15.56\n"
     ]
    },
    {
     "name": "stderr",
     "output_type": "stream",
     "text": [
      "/var/folders/7d/j6bnzr6j1s9dc0n2tggc7syr0000gp/T/ipykernel_21374/1512871296.py:11: DtypeWarning: Columns (25) have mixed types. Specify dtype option on import or set low_memory=False.\n",
      "  supplemental_df = pd.read_csv('../data/supplementary_data.csv')\n"
     ]
    }
   ],
   "source": [
    "# Set up\n",
    "import pandas as pd \n",
    "import numpy as np\n",
    "\n",
    "input_df = pd.read_csv('../data/train/input_2023_w01.csv')\n",
    "print(input_df.head())\n",
    "\n",
    "output_df = pd.read_csv('../data/train/output_2023_w01.csv')\n",
    "print(output_df.head())\n",
    "\n",
    "supplemental_df = pd.read_csv('../data/supplementary_data.csv')"
   ]
  },
  {
   "cell_type": "code",
   "execution_count": 3,
   "id": "88ef3e41",
   "metadata": {},
   "outputs": [
    {
     "name": "stdout",
     "output_type": "stream",
     "text": [
      "(285714, 23)\n",
      "Index(['game_id', 'play_id', 'player_to_predict', 'nfl_id', 'frame_id',\n",
      "       'play_direction', 'absolute_yardline_number', 'player_name',\n",
      "       'player_height', 'player_weight', 'player_birth_date',\n",
      "       'player_position', 'player_side', 'player_role', 'x', 'y', 's', 'a',\n",
      "       'dir', 'o', 'num_frames_output', 'ball_land_x', 'ball_land_y'],\n",
      "      dtype='object')\n",
      "737\n",
      "count    285714.000000\n",
      "mean       2284.758118\n",
      "std        1239.145629\n",
      "min          55.000000\n",
      "25%        1232.000000\n",
      "50%        2263.000000\n",
      "75%        3302.000000\n",
      "max        4699.000000\n",
      "Name: play_id, dtype: float64\n",
      "game_id                     0\n",
      "play_id                     0\n",
      "player_to_predict           0\n",
      "nfl_id                      0\n",
      "frame_id                    0\n",
      "play_direction              0\n",
      "absolute_yardline_number    0\n",
      "player_name                 0\n",
      "player_height               0\n",
      "player_weight               0\n",
      "player_birth_date           0\n",
      "player_position             0\n",
      "player_side                 0\n",
      "player_role                 0\n",
      "x                           0\n",
      "y                           0\n",
      "s                           0\n",
      "a                           0\n",
      "dir                         0\n",
      "o                           0\n",
      "num_frames_output           0\n",
      "ball_land_x                 0\n",
      "ball_land_y                 0\n",
      "dtype: int64\n"
     ]
    }
   ],
   "source": [
    "\"\"\"\n",
    "Notes: \n",
    "- Column names: 'game_id', 'play_id', 'player_to_predict', 'nfl_id', 'frame_id',\n",
    "       'play_direction', 'absolute_yardline_number', 'player_name',\n",
    "       'player_height', 'player_weight', 'player_birth_date',\n",
    "       'player_position', 'player_side', 'player_role', 'x', 'y', 's', 'a',\n",
    "       'dir', 'o', 'num_frames_output', 'ball_land_x', 'ball_land_y'\n",
    "- No nulls\n",
    "737 unique players\n",
    "\"\"\"\n",
    "print (input_df.shape)\n",
    "print (input_df.columns)\n",
    "print (input_df['nfl_id'].nunique())\n",
    "print (input_df['play_id'].describe())\n",
    "print (input_df.isnull().sum())"
   ]
  },
  {
   "cell_type": "code",
   "execution_count": 4,
   "id": "b71be75c",
   "metadata": {},
   "outputs": [
    {
     "data": {
      "text/plain": [
       "14"
      ]
     },
     "execution_count": 4,
     "metadata": {},
     "output_type": "execute_result"
    }
   ],
   "source": [
    "\"\"\" \n",
    "GOAL: Counting highest number of players tracked in a single play\n",
    "\n",
    "Notes:\n",
    "- found out play_id values are not globally unique\n",
    "- each game starts play_id from zero\n",
    "- changed ['play_id','frame_id'] to ['play_id','frame_id', 'game_id']\n",
    "- originally outputted 39; examined the specific play_id further; saw player_names from 3+ teams\n",
    "- 14 is still low\n",
    "\"\"\"\n",
    "highest_num_players = input_df.groupby(['play_id','frame_id', 'game_id'])['nfl_id'].nunique().max()\n",
    "highest_num_players"
   ]
  },
  {
   "cell_type": "code",
   "execution_count": 5,
   "id": "621226ec",
   "metadata": {},
   "outputs": [
    {
     "name": "stdout",
     "output_type": "stream",
     "text": [
      "count    23151.000000\n",
      "mean        12.341324\n",
      "std          1.050945\n",
      "min          6.000000\n",
      "25%         12.000000\n",
      "50%         13.000000\n",
      "75%         13.000000\n",
      "max         14.000000\n",
      "Name: nfl_id, dtype: float64\n",
      "13    12969\n",
      "12     5105\n",
      "11     2827\n",
      "10     1135\n",
      "14      710\n",
      "9       314\n",
      "8        33\n",
      "7        32\n",
      "6        26\n",
      "Name: nfl_id, dtype: int64\n"
     ]
    }
   ],
   "source": [
    "\"\"\"\n",
    "GOAL: Get player counts for all frames for prev analysis\n",
    "\n",
    "Notes: \n",
    "- Only 12-13 players are tracked per play instead of the full 22\n",
    "- Focuses more on the relevant players\n",
    "\"\"\"\n",
    "players_per_frame = input_df.groupby(['game_id', 'play_id', 'frame_id'])['nfl_id'].nunique()\n",
    "print(players_per_frame.describe())\n",
    "\n",
    "print(players_per_frame.value_counts().head(20))"
   ]
  },
  {
   "cell_type": "code",
   "execution_count": 6,
   "id": "f448026e",
   "metadata": {},
   "outputs": [
    {
     "name": "stdout",
     "output_type": "stream",
     "text": [
      "3    7104\n",
      "4    4950\n",
      "2    4712\n",
      "5    2743\n",
      "1    2007\n",
      "6    1330\n",
      "7     279\n",
      "8      26\n",
      "Name: player_to_predict, dtype: int64\n"
     ]
    }
   ],
   "source": [
    "\"\"\"\"\n",
    "GOAL: How many players marked for prediction per frame?\n",
    "\n",
    "Notes: \n",
    "- typically 3-4 players marked for prediction for each frame\n",
    "- leaves 8-10 context players\n",
    "- most likely dbs/lbs and receivers involved with a pass\n",
    "\"\"\"\n",
    "predict_per_frame = input_df.groupby(['game_id', 'play_id', 'frame_id'])['player_to_predict'].sum()\n",
    "\n",
    "print(predict_per_frame.value_counts())\n"
   ]
  },
  {
   "cell_type": "code",
   "execution_count": 7,
   "id": "7a357ab6",
   "metadata": {},
   "outputs": [
    {
     "name": "stdout",
     "output_type": "stream",
     "text": [
      "CB     20456\n",
      "WR     14074\n",
      "FS      9592\n",
      "SS      7190\n",
      "ILB     6174\n",
      "TE      5035\n",
      "MLB     4672\n",
      "OLB     4442\n",
      "RB      3831\n",
      "DE       537\n",
      "FB       211\n",
      "S        158\n",
      "DT        27\n",
      "Name: player_position, dtype: int64\n"
     ]
    }
   ],
   "source": [
    "\"\"\"\n",
    "GOAL: Find specific position\n",
    "\n",
    "Notes:\n",
    "- as expected, all key players involved with a pass play\n",
    "- ~70% of predicted players are defensive (CBs, Safeties, LBs)\n",
    "- other ~30% are WRs, TEs, RBs\n",
    "\"\"\"\n",
    "predicted_players = input_df[input_df['player_to_predict'] == True]\n",
    "print(predicted_players['player_position'].value_counts())"
   ]
  }
 ],
 "metadata": {
  "kernelspec": {
   "display_name": "base",
   "language": "python",
   "name": "python3"
  },
  "language_info": {
   "codemirror_mode": {
    "name": "ipython",
    "version": 3
   },
   "file_extension": ".py",
   "mimetype": "text/x-python",
   "name": "python",
   "nbconvert_exporter": "python",
   "pygments_lexer": "ipython3",
   "version": "3.12.4"
  }
 },
 "nbformat": 4,
 "nbformat_minor": 5
}
